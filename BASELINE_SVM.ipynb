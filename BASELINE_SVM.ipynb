{
  "nbformat": 4,
  "nbformat_minor": 0,
  "metadata": {
    "colab": {
      "provenance": [],
      "authorship_tag": "ABX9TyNNjA8fn3m6ZkQvV2ijinma",
      "include_colab_link": true
    },
    "kernelspec": {
      "name": "python3",
      "display_name": "Python 3"
    },
    "language_info": {
      "name": "python"
    }
  },
  "cells": [
    {
      "cell_type": "markdown",
      "metadata": {
        "id": "view-in-github",
        "colab_type": "text"
      },
      "source": [
        "<a href=\"https://colab.research.google.com/github/corvusMidnight/thesis/blob/main/BASELINE_SVM.ipynb\" target=\"_parent\"><img src=\"https://colab.research.google.com/assets/colab-badge.svg\" alt=\"Open In Colab\"/></a>"
      ]
    },
    {
      "cell_type": "code",
      "execution_count": null,
      "metadata": {
        "id": "UbicIr4H24X7"
      },
      "outputs": [],
      "source": []
    },
    {
      "cell_type": "code",
      "execution_count": null,
      "metadata": {
        "id": "GQrhHwn3nIIu"
      },
      "outputs": [],
      "source": [
        "##### IMPORTS #####\n",
        "%%capture\n",
        "!pip install -r requirements.txt | grep -v 'already satisfied'\n",
        "!pip install demoji\n",
        "\n",
        "!pip install lazypredict\n",
        "!pip install plotly\n",
        "!pip install emoji\n",
        "!pip install tokenizer\n",
        "!pip install transformers\n",
        "!pip install simpletransformers\n",
        "!pip install happytransformer\n",
        "!pip install optunity\n",
        "\n",
        "#Basic imports\n",
        "import pandas as pd\n",
        "import numpy as np\n",
        "import matplotlib.pyplot as plt\n",
        "%matplotlib inline\n",
        "import sklearn\n",
        "import re\n",
        "import seaborn as sns\n",
        "import string\n",
        "import operator\n",
        "import plotly.express as px\n",
        "from collections import Counter\n",
        "from time import time\n",
        "import pickle\n",
        "from scipy import stats\n",
        "import demoji\n",
        "\n",
        "#NLP imports\n",
        "from sklearn.feature_extraction.text import TfidfVectorizer, CountVectorizer\n",
        "\n",
        "#Baseline with LazyClassifier\n",
        "from lazypredict.Supervised import LazyClassifier, LazyRegressor\n",
        "\n",
        "#nltk\n",
        "import nltk\n",
        "from nltk.corpus import stopwords\n",
        "nltk.download('stopwords')\n",
        "stopword=set(stopwords.words('italian'))\n",
        "from nltk.stem.porter import PorterStemmer\n",
        "from nltk import word_tokenize, FreqDist\n",
        "stemmer = nltk.SnowballStemmer(\"italian\")\n",
        "from nltk.tokenize import TweetTokenizer\n",
        "from nltk.stem import WordNetLemmatizer\n",
        "nltk.download('wordnet')\n",
        "from nltk import ngrams, FreqDist\n",
        "nltk.download('punkt')\n",
        "\n",
        "#Classifiers\n",
        "from sklearn.dummy import DummyClassifier\n",
        "from sklearn.ensemble import RandomForestClassifier\n",
        "from sklearn.naive_bayes import GaussianNB\n",
        "from sklearn.tree import DecisionTreeClassifier\n",
        "from sklearn.neighbors import KNeighborsClassifier\n",
        "from sklearn.linear_model import LogisticRegression\n",
        "from sklearn.ensemble import GradientBoostingClassifier, AdaBoostClassifier, BaggingClassifier, ExtraTreesClassifier, GradientBoostingClassifier\n",
        "from sklearn.linear_model import SGDClassifier\n",
        "from sklearn.svm import LinearSVC\n",
        "from sklearn.svm import SVC\n",
        "from sklearn.naive_bayes import BernoulliNB\n",
        "\n",
        "#Evaluation tools\n",
        "from sklearn import metrics\n",
        "from sklearn.model_selection import train_test_split, GridSearchCV, RandomizedSearchCV, KFold, LeaveOneOut\n",
        "from sklearn.datasets import make_classification\n",
        "from sklearn.metrics import classification_report, confusion_matrix, ConfusionMatrixDisplay\n",
        "from sklearn.metrics import classification_report, confusion_matrix, plot_confusion_matrix, accuracy_score, f1_score\n",
        "from sklearn.metrics import r2_score, mean_squared_error\n",
        "from sklearn.model_selection import train_test_split, GridSearchCV\n",
        "from sklearn.model_selection import cross_val_score\n",
        "from sklearn.model_selection import learning_curve, validation_curve\n",
        "from sklearn.metrics import make_scorer\n",
        "from imblearn.metrics import geometric_mean_score\n",
        "from sklearn.dummy import DummyClassifier\n",
        "from sklearn import svm\n",
        "from sklearn.metrics import accuracy_score, log_loss\n",
        "import optunity\n",
        "import optunity.metrics\n",
        "\n",
        "\n",
        "#Pipeline\n",
        "from sklearn.pipeline import make_pipeline\n",
        "from imblearn.pipeline import Pipeline\n",
        "from sklearn.compose import ColumnTransformer\n",
        "from sklearn.compose import make_column_transformer\n",
        "\n",
        "#Pipeline visualization\n",
        "from sklearn import set_config\n",
        "from sklearn.utils import estimator_html_repr\n",
        "\n",
        "#Pipeline display mode\n",
        "set_config(display='diagram')\n",
        "\n",
        "\n",
        "#Imputers\n",
        "from sklearn.experimental import enable_iterative_imputer\n",
        "from sklearn.impute import IterativeImputer\n",
        "from sklearn.impute import KNNImputer\n",
        "\n",
        "#Scalers\n",
        "from sklearn.preprocessing import MinMaxScaler\n",
        "from sklearn.preprocessing import minmax_scale\n",
        "from sklearn.preprocessing import MaxAbsScaler\n",
        "from sklearn.preprocessing import StandardScaler\n",
        "from sklearn.preprocessing import RobustScaler\n",
        "from sklearn.preprocessing import Normalizer\n",
        "from sklearn.preprocessing import QuantileTransformer\n",
        "from sklearn.preprocessing import PowerTransformer\n",
        "\n",
        "from collections import Counter\n",
        "from collections import defaultdict\n",
        "import unicodedata as uni\n",
        "from google.colab import drive \n",
        "import emoji\n",
        "import nltk\n",
        "nltk.download('stopwords')\n",
        "nltk.download('punkt')\n",
        "from nltk.corpus import stopwords\n",
        "from nltk import word_tokenize\n",
        "from tokenizer import *\n",
        "from transformers import AutoTokenizer, AutoModel\n",
        "from simpletransformers.classification import ClassificationModel, ClassificationArgs\n",
        "\n",
        "#Model tuning\n",
        "from sklearn.model_selection import GridSearchCV, StratifiedKFold, RandomizedSearchCV\n",
        "\n",
        "#Neural and pretrained models\n",
        "import torch\n",
        "from torch import nn \n",
        "from transformers import AutoTokenizer, AutoModelForSequenceClassification, AutoModel\n",
        "from happytransformer import HappyTextClassification\n",
        "\n",
        "from datasets import Dataset\n",
        "from datasets import load_metric\n",
        "from transformers import AutoTokenizer, DataCollatorWithPadding\n",
        "from transformers import TrainingArguments, AutoModelForSequenceClassification, Trainer"
      ]
    },
    {
      "cell_type": "code",
      "source": [
        "## Load the data\n",
        "drive.mount('/content/gdrive')"
      ],
      "metadata": {
        "id": "A8xQ_7YtpSDU",
        "colab": {
          "base_uri": "https://localhost:8080/"
        },
        "outputId": "daa29a43-76c6-4394-c512-c00a34f74eb2"
      },
      "execution_count": null,
      "outputs": [
        {
          "output_type": "stream",
          "name": "stdout",
          "text": [
            "Mounted at /content/gdrive\n"
          ]
        }
      ]
    },
    {
      "cell_type": "code",
      "source": [
        "ITA_FB_TRAIN=pd.read_csv('/content/gdrive/MyDrive/Colab Notebooks/Thesis/data_train.csv')\n",
        "\n",
        "ITA_FB_TEST=pd.read_csv('/content/gdrive/MyDrive/Colab Notebooks/Thesis/data_test.csv')\n",
        "ITA_FB_TEST2=pd.read_csv('/content/gdrive/MyDrive/Colab Notebooks/Thesis/data_test.csv')\n",
        "ITA_FB_TEST2.drop('Unnamed: 0', axis=1, inplace=True)\n",
        "\n",
        "\n",
        "ITA_FB_REF = pd.read_csv('/content/gdrive/MyDrive/Colab Notebooks/Thesis/FB-folder/FB-reference/haspeede_FB-reference.tsv', sep='\\t', header=None)\n",
        "ITA_FB_REF = ITA_FB_REF.rename(columns={0: 'ID', 1: 'text', 2: 'label'})\n",
        "\n",
        "ITA_FB_TEST2['label'] = ITA_FB_REF['label'].values\n"
      ],
      "metadata": {
        "id": "FMIoRIlZp2al"
      },
      "execution_count": null,
      "outputs": []
    },
    {
      "cell_type": "code",
      "source": [
        "df = ITA_FB_TRAIN\n",
        "df = df.dropna()\n",
        "df.text_lower_no_emoji = df.text_lower_no_emoji.astype(str)\n",
        "#ITA_FB_TRAIN['label'] = ITA_FB_TRAIN['label'].astype(int)\n"
      ],
      "metadata": {
        "id": "g4scyZUot3k4"
      },
      "execution_count": null,
      "outputs": []
    },
    {
      "cell_type": "code",
      "source": [
        "y = df.label.values\n",
        "X = df[['text_lower_no_emoji']]\n",
        "\n",
        "\n",
        "\n",
        "X_train, X_rem, y_train, y_rem = train_test_split(X, y,\n",
        "                                                    stratify=y, \n",
        "                                                    random_state=1,\n",
        "                                                  test_size=.20, shuffle=True)\n",
        "X_valid, X_test, y_valid, y_test = train_test_split(X_rem, y_rem,\n",
        "                                                    test_size=0.5, shuffle=True,\n",
        "                                                   random_state=1)\n",
        "X_train.shape, X_test.shape, y_train.shape, y_test.shape, X_valid.shape, y_valid.shape"
      ],
      "metadata": {
        "colab": {
          "base_uri": "https://localhost:8080/"
        },
        "id": "2FRwV7gi3sCX",
        "outputId": "95188232-e5e6-47e5-8035-11524d36d8f8"
      },
      "execution_count": null,
      "outputs": [
        {
          "output_type": "execute_result",
          "data": {
            "text/plain": [
              "((2389, 1), (299, 1), (2389,), (299,), (299, 1), (299,))"
            ]
          },
          "metadata": {},
          "execution_count": 7
        }
      ]
    },
    {
      "cell_type": "code",
      "source": [
        "vect = CountVectorizer()\n",
        "\n",
        "\n",
        "preprocessor = make_column_transformer(\n",
        "      (vect, 'text_lower_no_emoji'), remainder='passthrough')\n",
        "\n",
        "clf = svm.SVC()\n",
        "model = Pipeline([\n",
        "          ('preprocessor', preprocessor),\n",
        "          ('clf', clf),\n",
        "      ])\n",
        "model.fit(X_train, y_train)\n",
        "  #Performance on the validation set\n",
        "\n",
        "y_pred = model.predict(X_valid)\n",
        "\n",
        "  # compute the performance measures\n",
        "score1 = metrics.accuracy_score(y_valid, y_pred)\n",
        "print(\"accuracy:   %0.3f\" % score1)\n",
        "\n",
        "print(metrics.classification_report(y_valid, y_pred,\n",
        "                                              target_names=['not offensive', 'offensive']))\n"
      ],
      "metadata": {
        "colab": {
          "base_uri": "https://localhost:8080/"
        },
        "id": "37_6y5wA4GW-",
        "outputId": "f1a0d70c-0732-4903-d04b-466ea7459dc8"
      },
      "execution_count": null,
      "outputs": [
        {
          "output_type": "stream",
          "name": "stdout",
          "text": [
            "accuracy:   0.779\n",
            "               precision    recall  f1-score   support\n",
            "\n",
            "not offensive       0.78      0.83      0.81       166\n",
            "    offensive       0.77      0.71      0.74       133\n",
            "\n",
            "     accuracy                           0.78       299\n",
            "    macro avg       0.78      0.77      0.77       299\n",
            " weighted avg       0.78      0.78      0.78       299\n",
            "\n"
          ]
        }
      ]
    },
    {
      "cell_type": "code",
      "source": [
        "#on unseen data\n",
        "\n",
        "X_valid = pd.read_csv('/content/gdrive/MyDrive/Colab Notebooks/Thesis/data_test.csv')\n",
        "X_valid = X_valid.astype(str).dropna()\n",
        "y_pred = model.predict(X_valid)\n",
        "\n",
        "y_valid = pd.read_csv('/content/gdrive/MyDrive/Colab Notebooks/Thesis/FB-folder/FB-reference/haspeede_FB-reference.tsv', sep='\\t', header=None)\n",
        "y_valid = y_valid.rename(columns={0: 'ID', 1: 'text', 2: 'label'})\n",
        "y_valid = y_valid['label']\n",
        "# compute the performance measures\n",
        "score1 = metrics.accuracy_score(y_valid, y_pred)\n",
        "print(\"accuracy:   %0.3f\" % score1)\n",
        "\n",
        "print(metrics.classification_report(y_valid, y_pred,\n",
        "                                            target_names=['0', '1']))\n",
        "\n",
        "cm = confusion_matrix(y_valid, y_pred, labels=model.classes_)\n",
        "disp = ConfusionMatrixDisplay(confusion_matrix=cm, display_labels=model.classes_)\n",
        "\n",
        "fig, ax = plt.subplots(figsize=(5,5))\n",
        "disp.plot(ax=ax)"
      ],
      "metadata": {
        "colab": {
          "base_uri": "https://localhost:8080/",
          "height": 500
        },
        "id": "X5krUxdd72S9",
        "outputId": "1727b8d8-c5a6-43b9-a236-60d364322e87"
      },
      "execution_count": null,
      "outputs": [
        {
          "output_type": "stream",
          "name": "stdout",
          "text": [
            "accuracy:   0.685\n",
            "              precision    recall  f1-score   support\n",
            "\n",
            "           0       0.51      0.69      0.59       323\n",
            "           1       0.82      0.68      0.75       677\n",
            "\n",
            "    accuracy                           0.69      1000\n",
            "   macro avg       0.67      0.69      0.67      1000\n",
            "weighted avg       0.72      0.69      0.69      1000\n",
            "\n"
          ]
        },
        {
          "output_type": "execute_result",
          "data": {
            "text/plain": [
              "<sklearn.metrics._plot.confusion_matrix.ConfusionMatrixDisplay at 0x7fc5e53f85e0>"
            ]
          },
          "metadata": {},
          "execution_count": 17
        },
        {
          "output_type": "display_data",
          "data": {
            "text/plain": [
              "<Figure size 360x360 with 2 Axes>"
            ],
            "image/png": "[encoded data removed]"
          },
          "metadata": {
            "needs_background": "light"
          }
        }
      ]
    },
    {
      "cell_type": "code",
      "source": [],
      "metadata": {
        "id": "qQrtQjQE5QZG"
      },
      "execution_count": null,
      "outputs": []
    }
  ]
}